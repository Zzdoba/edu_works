{
 "cells": [
  {
   "cell_type": "markdown",
   "metadata": {
    "id": "l7Qvz-bZ5_L9"
   },
   "source": [
    "# A/B тестирование для интернет-магазина"
   ]
  },
  {
   "cell_type": "markdown",
   "metadata": {
    "id": "Hz4kHyt16Lu8"
   },
   "source": [
    "В этом проекте мы будем заниматься ~~тем, для чего нужны аналитики~~ анализом результатов А/В-тестирования! Нам понадобится немногое - `pandas`, `matplotlib`, `numpy` и `scipy`.\n",
    "По легенде, вместе с маркетологами интернет-магазина мы подготовили список гипотез для увеличения выручки. Наша задача - приоритизировать гипотезу, запустить А/В-тест и проанализировать её результаты. Разобьем работу на этапы:\n",
    "\n",
    "1. [Импорт и подготовка данных](#import)\n",
    "2. [Приоритизация гипотез](#prior)\n",
    "3. [А/В-тестирование](#ab)\n",
    "    1. [Объединение данных и кумулятивные метрики](#met)\n",
    "    2. [Поиск аномалий](#abn)\n",
    "    3. [Собственно А/В-тестирование для изначальных и очищенных данных](#test)\n",
    "4. [Итоговый вывод и принятие решения](#concl)\n",
    "\n",
    "За работу!"
   ]
  },
  {
   "cell_type": "markdown",
   "metadata": {
    "id": "fzvdXuOK8vJV"
   },
   "source": [
    "## <a id=\"import\">Импорт и подготовка данных</a>"
   ]
  },
  {
   "cell_type": "code",
   "execution_count": 1,
   "metadata": {
    "id": "Z29u1knO5Nf7"
   },
   "outputs": [],
   "source": [
    "import pandas as pd\n",
    "import matplotlib.pyplot as plt\n",
    "import numpy as np\n",
    "from scipy import stats as st\n",
    "import warnings\n",
    "warnings.filterwarnings('ignore')"
   ]
  },
  {
   "cell_type": "code",
   "execution_count": 2,
   "metadata": {
    "id": "3ziLQm4L5SLU"
   },
   "outputs": [],
   "source": [
    "hypothesis = pd.read_csv('/datasets/hypothesis.csv')\n",
    "orders = pd.read_csv('/datasets/orders.csv')\n",
    "visitors = pd.read_csv('/datasets/visitors.csv')"
   ]
  },
  {
   "cell_type": "markdown",
   "metadata": {
    "id": "Xks3cUqFmJ38"
   },
   "source": [
    "Посмотрим на \"Гипотезы\":"
   ]
  },
  {
   "cell_type": "code",
   "execution_count": 3,
   "metadata": {
    "colab": {
     "base_uri": "https://localhost:8080/",
     "height": 314
    },
    "id": "h5e56jjW80O0",
    "outputId": "c067bf67-1249-455a-e373-7c903c51e690"
   },
   "outputs": [
    {
     "data": {
      "text/html": [
       "<div>\n",
       "<style scoped>\n",
       "    .dataframe tbody tr th:only-of-type {\n",
       "        vertical-align: middle;\n",
       "    }\n",
       "\n",
       "    .dataframe tbody tr th {\n",
       "        vertical-align: top;\n",
       "    }\n",
       "\n",
       "    .dataframe thead th {\n",
       "        text-align: right;\n",
       "    }\n",
       "</style>\n",
       "<table border=\"1\" class=\"dataframe\">\n",
       "  <thead>\n",
       "    <tr style=\"text-align: right;\">\n",
       "      <th></th>\n",
       "      <th>Hypothesis</th>\n",
       "      <th>Reach</th>\n",
       "      <th>Impact</th>\n",
       "      <th>Confidence</th>\n",
       "      <th>Efforts</th>\n",
       "    </tr>\n",
       "  </thead>\n",
       "  <tbody>\n",
       "    <tr>\n",
       "      <td>0</td>\n",
       "      <td>Добавить два новых канала привлечения трафика, что позволит привлекать на 30% больше пользователей</td>\n",
       "      <td>3</td>\n",
       "      <td>10</td>\n",
       "      <td>8</td>\n",
       "      <td>6</td>\n",
       "    </tr>\n",
       "    <tr>\n",
       "      <td>1</td>\n",
       "      <td>Запустить собственную службу доставки, что сократит срок доставки заказов</td>\n",
       "      <td>2</td>\n",
       "      <td>5</td>\n",
       "      <td>4</td>\n",
       "      <td>10</td>\n",
       "    </tr>\n",
       "    <tr>\n",
       "      <td>2</td>\n",
       "      <td>Добавить блоки рекомендаций товаров на сайт интернет магазина, чтобы повысить конверсию и средний чек заказа</td>\n",
       "      <td>8</td>\n",
       "      <td>3</td>\n",
       "      <td>7</td>\n",
       "      <td>3</td>\n",
       "    </tr>\n",
       "    <tr>\n",
       "      <td>3</td>\n",
       "      <td>Изменить структура категорий, что увеличит конверсию, т.к. пользователи быстрее найдут нужный товар</td>\n",
       "      <td>8</td>\n",
       "      <td>3</td>\n",
       "      <td>3</td>\n",
       "      <td>8</td>\n",
       "    </tr>\n",
       "    <tr>\n",
       "      <td>4</td>\n",
       "      <td>Изменить цвет фона главной страницы, чтобы увеличить вовлеченность пользователей</td>\n",
       "      <td>3</td>\n",
       "      <td>1</td>\n",
       "      <td>1</td>\n",
       "      <td>1</td>\n",
       "    </tr>\n",
       "    <tr>\n",
       "      <td>5</td>\n",
       "      <td>Добавить страницу отзывов клиентов о магазине, что позволит увеличить количество заказов</td>\n",
       "      <td>3</td>\n",
       "      <td>2</td>\n",
       "      <td>2</td>\n",
       "      <td>3</td>\n",
       "    </tr>\n",
       "    <tr>\n",
       "      <td>6</td>\n",
       "      <td>Показать на главной странице баннеры с актуальными акциями и распродажами, чтобы увеличить конверсию</td>\n",
       "      <td>5</td>\n",
       "      <td>3</td>\n",
       "      <td>8</td>\n",
       "      <td>3</td>\n",
       "    </tr>\n",
       "    <tr>\n",
       "      <td>7</td>\n",
       "      <td>Добавить форму подписки на все основные страницы, чтобы собрать базу клиентов для email-рассылок</td>\n",
       "      <td>10</td>\n",
       "      <td>7</td>\n",
       "      <td>8</td>\n",
       "      <td>5</td>\n",
       "    </tr>\n",
       "    <tr>\n",
       "      <td>8</td>\n",
       "      <td>Запустить акцию, дающую скидку на товар в день рождения</td>\n",
       "      <td>1</td>\n",
       "      <td>9</td>\n",
       "      <td>9</td>\n",
       "      <td>5</td>\n",
       "    </tr>\n",
       "  </tbody>\n",
       "</table>\n",
       "</div>"
      ],
      "text/plain": [
       "                                                                                                     Hypothesis  \\\n",
       "0            Добавить два новых канала привлечения трафика, что позволит привлекать на 30% больше пользователей   \n",
       "1                                     Запустить собственную службу доставки, что сократит срок доставки заказов   \n",
       "2  Добавить блоки рекомендаций товаров на сайт интернет магазина, чтобы повысить конверсию и средний чек заказа   \n",
       "3           Изменить структура категорий, что увеличит конверсию, т.к. пользователи быстрее найдут нужный товар   \n",
       "4                              Изменить цвет фона главной страницы, чтобы увеличить вовлеченность пользователей   \n",
       "5                      Добавить страницу отзывов клиентов о магазине, что позволит увеличить количество заказов   \n",
       "6          Показать на главной странице баннеры с актуальными акциями и распродажами, чтобы увеличить конверсию   \n",
       "7              Добавить форму подписки на все основные страницы, чтобы собрать базу клиентов для email-рассылок   \n",
       "8                                                       Запустить акцию, дающую скидку на товар в день рождения   \n",
       "\n",
       "   Reach  Impact  Confidence  Efforts  \n",
       "0      3      10           8        6  \n",
       "1      2       5           4       10  \n",
       "2      8       3           7        3  \n",
       "3      8       3           3        8  \n",
       "4      3       1           1        1  \n",
       "5      3       2           2        3  \n",
       "6      5       3           8        3  \n",
       "7     10       7           8        5  \n",
       "8      1       9           9        5  "
      ]
     },
     "metadata": {},
     "output_type": "display_data"
    }
   ],
   "source": [
    "pd.set_option('display.max_colwidth', 300)\n",
    "display(hypothesis)"
   ]
  },
  {
   "cell_type": "markdown",
   "metadata": {
    "id": "qXnKo20AjnQz"
   },
   "source": [
    "В таблице \"Гипотезы\" содержится информация о 9 гипотезах (охват, влияние, уверенность, затраты). Названия столбцов можно сделать лучше."
   ]
  },
  {
   "cell_type": "code",
   "execution_count": 4,
   "metadata": {
    "id": "jZga9sEjkgf9"
   },
   "outputs": [],
   "source": [
    "hypothesis.columns = hypothesis.columns.str.lower()"
   ]
  },
  {
   "cell_type": "markdown",
   "metadata": {
    "id": "MQWlaJcimOaU"
   },
   "source": [
    "Теперь посмотрим на \"Заказы\" и \"Посетителей\":"
   ]
  },
  {
   "cell_type": "code",
   "execution_count": 5,
   "metadata": {
    "colab": {
     "base_uri": "https://localhost:8080/",
     "height": 1000
    },
    "id": "xvIsPp-Gk_D-",
    "outputId": "902346e0-653b-4b69-a85e-bdecd404d3d7",
    "scrolled": true
   },
   "outputs": [
    {
     "name": "stdout",
     "output_type": "stream",
     "text": [
      "Первый взгляд:\n"
     ]
    },
    {
     "data": {
      "text/html": [
       "<div>\n",
       "<style scoped>\n",
       "    .dataframe tbody tr th:only-of-type {\n",
       "        vertical-align: middle;\n",
       "    }\n",
       "\n",
       "    .dataframe tbody tr th {\n",
       "        vertical-align: top;\n",
       "    }\n",
       "\n",
       "    .dataframe thead th {\n",
       "        text-align: right;\n",
       "    }\n",
       "</style>\n",
       "<table border=\"1\" class=\"dataframe\">\n",
       "  <thead>\n",
       "    <tr style=\"text-align: right;\">\n",
       "      <th></th>\n",
       "      <th>transactionId</th>\n",
       "      <th>visitorId</th>\n",
       "      <th>date</th>\n",
       "      <th>revenue</th>\n",
       "      <th>group</th>\n",
       "    </tr>\n",
       "  </thead>\n",
       "  <tbody>\n",
       "    <tr>\n",
       "      <td>0</td>\n",
       "      <td>3667963787</td>\n",
       "      <td>3312258926</td>\n",
       "      <td>2019-08-15</td>\n",
       "      <td>1650</td>\n",
       "      <td>B</td>\n",
       "    </tr>\n",
       "    <tr>\n",
       "      <td>1</td>\n",
       "      <td>2804400009</td>\n",
       "      <td>3642806036</td>\n",
       "      <td>2019-08-15</td>\n",
       "      <td>730</td>\n",
       "      <td>B</td>\n",
       "    </tr>\n",
       "    <tr>\n",
       "      <td>2</td>\n",
       "      <td>2961555356</td>\n",
       "      <td>4069496402</td>\n",
       "      <td>2019-08-15</td>\n",
       "      <td>400</td>\n",
       "      <td>A</td>\n",
       "    </tr>\n",
       "    <tr>\n",
       "      <td>3</td>\n",
       "      <td>3797467345</td>\n",
       "      <td>1196621759</td>\n",
       "      <td>2019-08-15</td>\n",
       "      <td>9759</td>\n",
       "      <td>B</td>\n",
       "    </tr>\n",
       "    <tr>\n",
       "      <td>4</td>\n",
       "      <td>2282983706</td>\n",
       "      <td>2322279887</td>\n",
       "      <td>2019-08-15</td>\n",
       "      <td>2308</td>\n",
       "      <td>B</td>\n",
       "    </tr>\n",
       "    <tr>\n",
       "      <td>5</td>\n",
       "      <td>182168103</td>\n",
       "      <td>935554773</td>\n",
       "      <td>2019-08-15</td>\n",
       "      <td>2210</td>\n",
       "      <td>B</td>\n",
       "    </tr>\n",
       "    <tr>\n",
       "      <td>6</td>\n",
       "      <td>398296753</td>\n",
       "      <td>2900797465</td>\n",
       "      <td>2019-08-15</td>\n",
       "      <td>1860</td>\n",
       "      <td>B</td>\n",
       "    </tr>\n",
       "    <tr>\n",
       "      <td>7</td>\n",
       "      <td>2626614568</td>\n",
       "      <td>78758296</td>\n",
       "      <td>2019-08-15</td>\n",
       "      <td>1044</td>\n",
       "      <td>A</td>\n",
       "    </tr>\n",
       "    <tr>\n",
       "      <td>8</td>\n",
       "      <td>1576988021</td>\n",
       "      <td>295230930</td>\n",
       "      <td>2019-08-15</td>\n",
       "      <td>13710</td>\n",
       "      <td>A</td>\n",
       "    </tr>\n",
       "    <tr>\n",
       "      <td>9</td>\n",
       "      <td>1506739906</td>\n",
       "      <td>1882260405</td>\n",
       "      <td>2019-08-15</td>\n",
       "      <td>1855</td>\n",
       "      <td>B</td>\n",
       "    </tr>\n",
       "  </tbody>\n",
       "</table>\n",
       "</div>"
      ],
      "text/plain": [
       "   transactionId   visitorId        date  revenue group\n",
       "0     3667963787  3312258926  2019-08-15     1650     B\n",
       "1     2804400009  3642806036  2019-08-15      730     B\n",
       "2     2961555356  4069496402  2019-08-15      400     A\n",
       "3     3797467345  1196621759  2019-08-15     9759     B\n",
       "4     2282983706  2322279887  2019-08-15     2308     B\n",
       "5      182168103   935554773  2019-08-15     2210     B\n",
       "6      398296753  2900797465  2019-08-15     1860     B\n",
       "7     2626614568    78758296  2019-08-15     1044     A\n",
       "8     1576988021   295230930  2019-08-15    13710     A\n",
       "9     1506739906  1882260405  2019-08-15     1855     B"
      ]
     },
     "metadata": {},
     "output_type": "display_data"
    },
    {
     "name": "stdout",
     "output_type": "stream",
     "text": [
      "Общая информация:\n",
      "<class 'pandas.core.frame.DataFrame'>\n",
      "RangeIndex: 1197 entries, 0 to 1196\n",
      "Data columns (total 5 columns):\n",
      "transactionId    1197 non-null int64\n",
      "visitorId        1197 non-null int64\n",
      "date             1197 non-null object\n",
      "revenue          1197 non-null int64\n",
      "group            1197 non-null object\n",
      "dtypes: int64(3), object(2)\n",
      "memory usage: 46.9+ KB\n"
     ]
    },
    {
     "data": {
      "text/plain": [
       "None"
      ]
     },
     "metadata": {},
     "output_type": "display_data"
    },
    {
     "data": {
      "text/html": [
       "<div>\n",
       "<style scoped>\n",
       "    .dataframe tbody tr th:only-of-type {\n",
       "        vertical-align: middle;\n",
       "    }\n",
       "\n",
       "    .dataframe tbody tr th {\n",
       "        vertical-align: top;\n",
       "    }\n",
       "\n",
       "    .dataframe thead th {\n",
       "        text-align: right;\n",
       "    }\n",
       "</style>\n",
       "<table border=\"1\" class=\"dataframe\">\n",
       "  <thead>\n",
       "    <tr style=\"text-align: right;\">\n",
       "      <th></th>\n",
       "      <th>transactionId</th>\n",
       "      <th>visitorId</th>\n",
       "      <th>revenue</th>\n",
       "    </tr>\n",
       "  </thead>\n",
       "  <tbody>\n",
       "    <tr>\n",
       "      <td>count</td>\n",
       "      <td>1.197000e+03</td>\n",
       "      <td>1.197000e+03</td>\n",
       "      <td>1.197000e+03</td>\n",
       "    </tr>\n",
       "    <tr>\n",
       "      <td>mean</td>\n",
       "      <td>2.155621e+09</td>\n",
       "      <td>2.165960e+09</td>\n",
       "      <td>8.348006e+03</td>\n",
       "    </tr>\n",
       "    <tr>\n",
       "      <td>std</td>\n",
       "      <td>1.229085e+09</td>\n",
       "      <td>1.236014e+09</td>\n",
       "      <td>3.919113e+04</td>\n",
       "    </tr>\n",
       "    <tr>\n",
       "      <td>min</td>\n",
       "      <td>1.062393e+06</td>\n",
       "      <td>5.114589e+06</td>\n",
       "      <td>5.000000e+01</td>\n",
       "    </tr>\n",
       "    <tr>\n",
       "      <td>25%</td>\n",
       "      <td>1.166776e+09</td>\n",
       "      <td>1.111826e+09</td>\n",
       "      <td>1.220000e+03</td>\n",
       "    </tr>\n",
       "    <tr>\n",
       "      <td>50%</td>\n",
       "      <td>2.145194e+09</td>\n",
       "      <td>2.217985e+09</td>\n",
       "      <td>2.978000e+03</td>\n",
       "    </tr>\n",
       "    <tr>\n",
       "      <td>75%</td>\n",
       "      <td>3.237740e+09</td>\n",
       "      <td>3.177606e+09</td>\n",
       "      <td>8.290000e+03</td>\n",
       "    </tr>\n",
       "    <tr>\n",
       "      <td>max</td>\n",
       "      <td>4.293856e+09</td>\n",
       "      <td>4.283872e+09</td>\n",
       "      <td>1.294500e+06</td>\n",
       "    </tr>\n",
       "  </tbody>\n",
       "</table>\n",
       "</div>"
      ],
      "text/plain": [
       "       transactionId     visitorId       revenue\n",
       "count   1.197000e+03  1.197000e+03  1.197000e+03\n",
       "mean    2.155621e+09  2.165960e+09  8.348006e+03\n",
       "std     1.229085e+09  1.236014e+09  3.919113e+04\n",
       "min     1.062393e+06  5.114589e+06  5.000000e+01\n",
       "25%     1.166776e+09  1.111826e+09  1.220000e+03\n",
       "50%     2.145194e+09  2.217985e+09  2.978000e+03\n",
       "75%     3.237740e+09  3.177606e+09  8.290000e+03\n",
       "max     4.293856e+09  4.283872e+09  1.294500e+06"
      ]
     },
     "metadata": {},
     "output_type": "display_data"
    },
    {
     "name": "stdout",
     "output_type": "stream",
     "text": [
      "Дублирующихся значений:  0\n",
      "***\n",
      "Первый взгляд:\n"
     ]
    },
    {
     "data": {
      "text/html": [
       "<div>\n",
       "<style scoped>\n",
       "    .dataframe tbody tr th:only-of-type {\n",
       "        vertical-align: middle;\n",
       "    }\n",
       "\n",
       "    .dataframe tbody tr th {\n",
       "        vertical-align: top;\n",
       "    }\n",
       "\n",
       "    .dataframe thead th {\n",
       "        text-align: right;\n",
       "    }\n",
       "</style>\n",
       "<table border=\"1\" class=\"dataframe\">\n",
       "  <thead>\n",
       "    <tr style=\"text-align: right;\">\n",
       "      <th></th>\n",
       "      <th>date</th>\n",
       "      <th>group</th>\n",
       "      <th>visitors</th>\n",
       "    </tr>\n",
       "  </thead>\n",
       "  <tbody>\n",
       "    <tr>\n",
       "      <td>0</td>\n",
       "      <td>2019-08-01</td>\n",
       "      <td>A</td>\n",
       "      <td>719</td>\n",
       "    </tr>\n",
       "    <tr>\n",
       "      <td>1</td>\n",
       "      <td>2019-08-02</td>\n",
       "      <td>A</td>\n",
       "      <td>619</td>\n",
       "    </tr>\n",
       "    <tr>\n",
       "      <td>2</td>\n",
       "      <td>2019-08-03</td>\n",
       "      <td>A</td>\n",
       "      <td>507</td>\n",
       "    </tr>\n",
       "    <tr>\n",
       "      <td>3</td>\n",
       "      <td>2019-08-04</td>\n",
       "      <td>A</td>\n",
       "      <td>717</td>\n",
       "    </tr>\n",
       "    <tr>\n",
       "      <td>4</td>\n",
       "      <td>2019-08-05</td>\n",
       "      <td>A</td>\n",
       "      <td>756</td>\n",
       "    </tr>\n",
       "    <tr>\n",
       "      <td>5</td>\n",
       "      <td>2019-08-06</td>\n",
       "      <td>A</td>\n",
       "      <td>667</td>\n",
       "    </tr>\n",
       "    <tr>\n",
       "      <td>6</td>\n",
       "      <td>2019-08-07</td>\n",
       "      <td>A</td>\n",
       "      <td>644</td>\n",
       "    </tr>\n",
       "    <tr>\n",
       "      <td>7</td>\n",
       "      <td>2019-08-08</td>\n",
       "      <td>A</td>\n",
       "      <td>610</td>\n",
       "    </tr>\n",
       "    <tr>\n",
       "      <td>8</td>\n",
       "      <td>2019-08-09</td>\n",
       "      <td>A</td>\n",
       "      <td>617</td>\n",
       "    </tr>\n",
       "    <tr>\n",
       "      <td>9</td>\n",
       "      <td>2019-08-10</td>\n",
       "      <td>A</td>\n",
       "      <td>406</td>\n",
       "    </tr>\n",
       "  </tbody>\n",
       "</table>\n",
       "</div>"
      ],
      "text/plain": [
       "         date group  visitors\n",
       "0  2019-08-01     A       719\n",
       "1  2019-08-02     A       619\n",
       "2  2019-08-03     A       507\n",
       "3  2019-08-04     A       717\n",
       "4  2019-08-05     A       756\n",
       "5  2019-08-06     A       667\n",
       "6  2019-08-07     A       644\n",
       "7  2019-08-08     A       610\n",
       "8  2019-08-09     A       617\n",
       "9  2019-08-10     A       406"
      ]
     },
     "metadata": {},
     "output_type": "display_data"
    },
    {
     "name": "stdout",
     "output_type": "stream",
     "text": [
      "Общая информация:\n",
      "<class 'pandas.core.frame.DataFrame'>\n",
      "RangeIndex: 62 entries, 0 to 61\n",
      "Data columns (total 3 columns):\n",
      "date        62 non-null object\n",
      "group       62 non-null object\n",
      "visitors    62 non-null int64\n",
      "dtypes: int64(1), object(2)\n",
      "memory usage: 1.6+ KB\n"
     ]
    },
    {
     "data": {
      "text/plain": [
       "None"
      ]
     },
     "metadata": {},
     "output_type": "display_data"
    },
    {
     "data": {
      "text/html": [
       "<div>\n",
       "<style scoped>\n",
       "    .dataframe tbody tr th:only-of-type {\n",
       "        vertical-align: middle;\n",
       "    }\n",
       "\n",
       "    .dataframe tbody tr th {\n",
       "        vertical-align: top;\n",
       "    }\n",
       "\n",
       "    .dataframe thead th {\n",
       "        text-align: right;\n",
       "    }\n",
       "</style>\n",
       "<table border=\"1\" class=\"dataframe\">\n",
       "  <thead>\n",
       "    <tr style=\"text-align: right;\">\n",
       "      <th></th>\n",
       "      <th>visitors</th>\n",
       "    </tr>\n",
       "  </thead>\n",
       "  <tbody>\n",
       "    <tr>\n",
       "      <td>count</td>\n",
       "      <td>62.000000</td>\n",
       "    </tr>\n",
       "    <tr>\n",
       "      <td>mean</td>\n",
       "      <td>607.290323</td>\n",
       "    </tr>\n",
       "    <tr>\n",
       "      <td>std</td>\n",
       "      <td>114.400560</td>\n",
       "    </tr>\n",
       "    <tr>\n",
       "      <td>min</td>\n",
       "      <td>361.000000</td>\n",
       "    </tr>\n",
       "    <tr>\n",
       "      <td>25%</td>\n",
       "      <td>534.000000</td>\n",
       "    </tr>\n",
       "    <tr>\n",
       "      <td>50%</td>\n",
       "      <td>624.500000</td>\n",
       "    </tr>\n",
       "    <tr>\n",
       "      <td>75%</td>\n",
       "      <td>710.500000</td>\n",
       "    </tr>\n",
       "    <tr>\n",
       "      <td>max</td>\n",
       "      <td>770.000000</td>\n",
       "    </tr>\n",
       "  </tbody>\n",
       "</table>\n",
       "</div>"
      ],
      "text/plain": [
       "         visitors\n",
       "count   62.000000\n",
       "mean   607.290323\n",
       "std    114.400560\n",
       "min    361.000000\n",
       "25%    534.000000\n",
       "50%    624.500000\n",
       "75%    710.500000\n",
       "max    770.000000"
      ]
     },
     "metadata": {},
     "output_type": "display_data"
    },
    {
     "name": "stdout",
     "output_type": "stream",
     "text": [
      "Дублирующихся значений:  0\n",
      "***\n"
     ]
    }
   ],
   "source": [
    "data = [orders, visitors]\n",
    "for data in data:\n",
    "    print('Первый взгляд:')\n",
    "    display(data.head(10))\n",
    "    print('Общая информация:')\n",
    "    display(data.info())\n",
    "    display(data.describe())\n",
    "    print('Дублирующихся значений: ', data.duplicated().sum())\n",
    "    print('***')"
   ]
  },
  {
   "cell_type": "markdown",
   "metadata": {
    "id": "hpfoHQrmn1SI"
   },
   "source": [
    "В датафрейме \"Заказы\" лежит информация о 1197 транзакциях: id транзакции, посетителя, дата, сумма транзакции и группа. В таблице \"Посетители\" содержатся данные о 62 днях эксперимента: дата, группа и количество посетителей в ней. Заметим, что максимальный заказ стоит более 1,2 млн, в то время как медиана - около 3 тысяч. Запомним эту аномалию. Время в обоих таблицах необходимо преобразовать в datetime, а столбцы первого датафрейма слегка изменить:"
   ]
  },
  {
   "cell_type": "code",
   "execution_count": 6,
   "metadata": {
    "id": "wyZ2gKo3q3EN"
   },
   "outputs": [],
   "source": [
    "orders['date'] = pd.to_datetime(orders['date'], format='%Y-%m-%d')\n",
    "visitors['date'] = pd.to_datetime(visitors['date'], format='%Y-%m-%d')\n",
    "orders.columns = orders.columns.str.lower()"
   ]
  },
  {
   "cell_type": "markdown",
   "metadata": {
    "id": "rj-V83m8rz3i"
   },
   "source": [
    "## <a id=\"prior\">Приоритизация гипотез</a>"
   ]
  },
  {
   "cell_type": "markdown",
   "metadata": {
    "id": "CZ98lz6Fr4LV"
   },
   "source": [
    "Применим фреймворки для приоритизации и сравним результаты:"
   ]
  },
  {
   "cell_type": "code",
   "execution_count": 7,
   "metadata": {
    "colab": {
     "base_uri": "https://localhost:8080/",
     "height": 714
    },
    "id": "vrccLCzgr26I",
    "outputId": "02ead256-ec33-4b78-f0bd-bafa26cc5b55"
   },
   "outputs": [
    {
     "data": {
      "text/plain": [
       "'Фреймворк ICE:'"
      ]
     },
     "metadata": {},
     "output_type": "display_data"
    },
    {
     "data": {
      "text/html": [
       "<div>\n",
       "<style scoped>\n",
       "    .dataframe tbody tr th:only-of-type {\n",
       "        vertical-align: middle;\n",
       "    }\n",
       "\n",
       "    .dataframe tbody tr th {\n",
       "        vertical-align: top;\n",
       "    }\n",
       "\n",
       "    .dataframe thead th {\n",
       "        text-align: right;\n",
       "    }\n",
       "</style>\n",
       "<table border=\"1\" class=\"dataframe\">\n",
       "  <thead>\n",
       "    <tr style=\"text-align: right;\">\n",
       "      <th></th>\n",
       "      <th>hypothesis</th>\n",
       "      <th>reach</th>\n",
       "      <th>impact</th>\n",
       "      <th>confidence</th>\n",
       "      <th>efforts</th>\n",
       "      <th>ice</th>\n",
       "      <th>rice</th>\n",
       "    </tr>\n",
       "  </thead>\n",
       "  <tbody>\n",
       "    <tr>\n",
       "      <td>8</td>\n",
       "      <td>Запустить акцию, дающую скидку на товар в день рождения</td>\n",
       "      <td>1</td>\n",
       "      <td>9</td>\n",
       "      <td>9</td>\n",
       "      <td>5</td>\n",
       "      <td>16.20</td>\n",
       "      <td>16.2</td>\n",
       "    </tr>\n",
       "    <tr>\n",
       "      <td>0</td>\n",
       "      <td>Добавить два новых канала привлечения трафика, что позволит привлекать на 30% больше пользователей</td>\n",
       "      <td>3</td>\n",
       "      <td>10</td>\n",
       "      <td>8</td>\n",
       "      <td>6</td>\n",
       "      <td>13.33</td>\n",
       "      <td>40.0</td>\n",
       "    </tr>\n",
       "    <tr>\n",
       "      <td>7</td>\n",
       "      <td>Добавить форму подписки на все основные страницы, чтобы собрать базу клиентов для email-рассылок</td>\n",
       "      <td>10</td>\n",
       "      <td>7</td>\n",
       "      <td>8</td>\n",
       "      <td>5</td>\n",
       "      <td>11.20</td>\n",
       "      <td>112.0</td>\n",
       "    </tr>\n",
       "    <tr>\n",
       "      <td>6</td>\n",
       "      <td>Показать на главной странице баннеры с актуальными акциями и распродажами, чтобы увеличить конверсию</td>\n",
       "      <td>5</td>\n",
       "      <td>3</td>\n",
       "      <td>8</td>\n",
       "      <td>3</td>\n",
       "      <td>8.00</td>\n",
       "      <td>40.0</td>\n",
       "    </tr>\n",
       "    <tr>\n",
       "      <td>2</td>\n",
       "      <td>Добавить блоки рекомендаций товаров на сайт интернет магазина, чтобы повысить конверсию и средний чек заказа</td>\n",
       "      <td>8</td>\n",
       "      <td>3</td>\n",
       "      <td>7</td>\n",
       "      <td>3</td>\n",
       "      <td>7.00</td>\n",
       "      <td>56.0</td>\n",
       "    </tr>\n",
       "    <tr>\n",
       "      <td>1</td>\n",
       "      <td>Запустить собственную службу доставки, что сократит срок доставки заказов</td>\n",
       "      <td>2</td>\n",
       "      <td>5</td>\n",
       "      <td>4</td>\n",
       "      <td>10</td>\n",
       "      <td>2.00</td>\n",
       "      <td>4.0</td>\n",
       "    </tr>\n",
       "    <tr>\n",
       "      <td>5</td>\n",
       "      <td>Добавить страницу отзывов клиентов о магазине, что позволит увеличить количество заказов</td>\n",
       "      <td>3</td>\n",
       "      <td>2</td>\n",
       "      <td>2</td>\n",
       "      <td>3</td>\n",
       "      <td>1.33</td>\n",
       "      <td>4.0</td>\n",
       "    </tr>\n",
       "    <tr>\n",
       "      <td>3</td>\n",
       "      <td>Изменить структура категорий, что увеличит конверсию, т.к. пользователи быстрее найдут нужный товар</td>\n",
       "      <td>8</td>\n",
       "      <td>3</td>\n",
       "      <td>3</td>\n",
       "      <td>8</td>\n",
       "      <td>1.12</td>\n",
       "      <td>9.0</td>\n",
       "    </tr>\n",
       "    <tr>\n",
       "      <td>4</td>\n",
       "      <td>Изменить цвет фона главной страницы, чтобы увеличить вовлеченность пользователей</td>\n",
       "      <td>3</td>\n",
       "      <td>1</td>\n",
       "      <td>1</td>\n",
       "      <td>1</td>\n",
       "      <td>1.00</td>\n",
       "      <td>3.0</td>\n",
       "    </tr>\n",
       "  </tbody>\n",
       "</table>\n",
       "</div>"
      ],
      "text/plain": [
       "                                                                                                     hypothesis  \\\n",
       "8                                                       Запустить акцию, дающую скидку на товар в день рождения   \n",
       "0            Добавить два новых канала привлечения трафика, что позволит привлекать на 30% больше пользователей   \n",
       "7              Добавить форму подписки на все основные страницы, чтобы собрать базу клиентов для email-рассылок   \n",
       "6          Показать на главной странице баннеры с актуальными акциями и распродажами, чтобы увеличить конверсию   \n",
       "2  Добавить блоки рекомендаций товаров на сайт интернет магазина, чтобы повысить конверсию и средний чек заказа   \n",
       "1                                     Запустить собственную службу доставки, что сократит срок доставки заказов   \n",
       "5                      Добавить страницу отзывов клиентов о магазине, что позволит увеличить количество заказов   \n",
       "3           Изменить структура категорий, что увеличит конверсию, т.к. пользователи быстрее найдут нужный товар   \n",
       "4                              Изменить цвет фона главной страницы, чтобы увеличить вовлеченность пользователей   \n",
       "\n",
       "   reach  impact  confidence  efforts    ice   rice  \n",
       "8      1       9           9        5  16.20   16.2  \n",
       "0      3      10           8        6  13.33   40.0  \n",
       "7     10       7           8        5  11.20  112.0  \n",
       "6      5       3           8        3   8.00   40.0  \n",
       "2      8       3           7        3   7.00   56.0  \n",
       "1      2       5           4       10   2.00    4.0  \n",
       "5      3       2           2        3   1.33    4.0  \n",
       "3      8       3           3        8   1.12    9.0  \n",
       "4      3       1           1        1   1.00    3.0  "
      ]
     },
     "metadata": {},
     "output_type": "display_data"
    },
    {
     "data": {
      "text/plain": [
       "'Фреймворк RICE:'"
      ]
     },
     "metadata": {},
     "output_type": "display_data"
    },
    {
     "data": {
      "text/html": [
       "<div>\n",
       "<style scoped>\n",
       "    .dataframe tbody tr th:only-of-type {\n",
       "        vertical-align: middle;\n",
       "    }\n",
       "\n",
       "    .dataframe tbody tr th {\n",
       "        vertical-align: top;\n",
       "    }\n",
       "\n",
       "    .dataframe thead th {\n",
       "        text-align: right;\n",
       "    }\n",
       "</style>\n",
       "<table border=\"1\" class=\"dataframe\">\n",
       "  <thead>\n",
       "    <tr style=\"text-align: right;\">\n",
       "      <th></th>\n",
       "      <th>hypothesis</th>\n",
       "      <th>reach</th>\n",
       "      <th>impact</th>\n",
       "      <th>confidence</th>\n",
       "      <th>efforts</th>\n",
       "      <th>ice</th>\n",
       "      <th>rice</th>\n",
       "    </tr>\n",
       "  </thead>\n",
       "  <tbody>\n",
       "    <tr>\n",
       "      <td>7</td>\n",
       "      <td>Добавить форму подписки на все основные страницы, чтобы собрать базу клиентов для email-рассылок</td>\n",
       "      <td>10</td>\n",
       "      <td>7</td>\n",
       "      <td>8</td>\n",
       "      <td>5</td>\n",
       "      <td>11.20</td>\n",
       "      <td>112.0</td>\n",
       "    </tr>\n",
       "    <tr>\n",
       "      <td>2</td>\n",
       "      <td>Добавить блоки рекомендаций товаров на сайт интернет магазина, чтобы повысить конверсию и средний чек заказа</td>\n",
       "      <td>8</td>\n",
       "      <td>3</td>\n",
       "      <td>7</td>\n",
       "      <td>3</td>\n",
       "      <td>7.00</td>\n",
       "      <td>56.0</td>\n",
       "    </tr>\n",
       "    <tr>\n",
       "      <td>0</td>\n",
       "      <td>Добавить два новых канала привлечения трафика, что позволит привлекать на 30% больше пользователей</td>\n",
       "      <td>3</td>\n",
       "      <td>10</td>\n",
       "      <td>8</td>\n",
       "      <td>6</td>\n",
       "      <td>13.33</td>\n",
       "      <td>40.0</td>\n",
       "    </tr>\n",
       "    <tr>\n",
       "      <td>6</td>\n",
       "      <td>Показать на главной странице баннеры с актуальными акциями и распродажами, чтобы увеличить конверсию</td>\n",
       "      <td>5</td>\n",
       "      <td>3</td>\n",
       "      <td>8</td>\n",
       "      <td>3</td>\n",
       "      <td>8.00</td>\n",
       "      <td>40.0</td>\n",
       "    </tr>\n",
       "    <tr>\n",
       "      <td>8</td>\n",
       "      <td>Запустить акцию, дающую скидку на товар в день рождения</td>\n",
       "      <td>1</td>\n",
       "      <td>9</td>\n",
       "      <td>9</td>\n",
       "      <td>5</td>\n",
       "      <td>16.20</td>\n",
       "      <td>16.2</td>\n",
       "    </tr>\n",
       "    <tr>\n",
       "      <td>3</td>\n",
       "      <td>Изменить структура категорий, что увеличит конверсию, т.к. пользователи быстрее найдут нужный товар</td>\n",
       "      <td>8</td>\n",
       "      <td>3</td>\n",
       "      <td>3</td>\n",
       "      <td>8</td>\n",
       "      <td>1.12</td>\n",
       "      <td>9.0</td>\n",
       "    </tr>\n",
       "    <tr>\n",
       "      <td>1</td>\n",
       "      <td>Запустить собственную службу доставки, что сократит срок доставки заказов</td>\n",
       "      <td>2</td>\n",
       "      <td>5</td>\n",
       "      <td>4</td>\n",
       "      <td>10</td>\n",
       "      <td>2.00</td>\n",
       "      <td>4.0</td>\n",
       "    </tr>\n",
       "    <tr>\n",
       "      <td>5</td>\n",
       "      <td>Добавить страницу отзывов клиентов о магазине, что позволит увеличить количество заказов</td>\n",
       "      <td>3</td>\n",
       "      <td>2</td>\n",
       "      <td>2</td>\n",
       "      <td>3</td>\n",
       "      <td>1.33</td>\n",
       "      <td>4.0</td>\n",
       "    </tr>\n",
       "    <tr>\n",
       "      <td>4</td>\n",
       "      <td>Изменить цвет фона главной страницы, чтобы увеличить вовлеченность пользователей</td>\n",
       "      <td>3</td>\n",
       "      <td>1</td>\n",
       "      <td>1</td>\n",
       "      <td>1</td>\n",
       "      <td>1.00</td>\n",
       "      <td>3.0</td>\n",
       "    </tr>\n",
       "  </tbody>\n",
       "</table>\n",
       "</div>"
      ],
      "text/plain": [
       "                                                                                                     hypothesis  \\\n",
       "7              Добавить форму подписки на все основные страницы, чтобы собрать базу клиентов для email-рассылок   \n",
       "2  Добавить блоки рекомендаций товаров на сайт интернет магазина, чтобы повысить конверсию и средний чек заказа   \n",
       "0            Добавить два новых канала привлечения трафика, что позволит привлекать на 30% больше пользователей   \n",
       "6          Показать на главной странице баннеры с актуальными акциями и распродажами, чтобы увеличить конверсию   \n",
       "8                                                       Запустить акцию, дающую скидку на товар в день рождения   \n",
       "3           Изменить структура категорий, что увеличит конверсию, т.к. пользователи быстрее найдут нужный товар   \n",
       "1                                     Запустить собственную службу доставки, что сократит срок доставки заказов   \n",
       "5                      Добавить страницу отзывов клиентов о магазине, что позволит увеличить количество заказов   \n",
       "4                              Изменить цвет фона главной страницы, чтобы увеличить вовлеченность пользователей   \n",
       "\n",
       "   reach  impact  confidence  efforts    ice   rice  \n",
       "7     10       7           8        5  11.20  112.0  \n",
       "2      8       3           7        3   7.00   56.0  \n",
       "0      3      10           8        6  13.33   40.0  \n",
       "6      5       3           8        3   8.00   40.0  \n",
       "8      1       9           9        5  16.20   16.2  \n",
       "3      8       3           3        8   1.12    9.0  \n",
       "1      2       5           4       10   2.00    4.0  \n",
       "5      3       2           2        3   1.33    4.0  \n",
       "4      3       1           1        1   1.00    3.0  "
      ]
     },
     "metadata": {},
     "output_type": "display_data"
    }
   ],
   "source": [
    "hypothesis['ice'] = ((hypothesis['impact'] * hypothesis['confidence'])/hypothesis['efforts']).round(2)\n",
    "hypothesis['rice'] = ((hypothesis['reach'] * hypothesis['impact'] * hypothesis['confidence'])/hypothesis['efforts']).round(2)\n",
    "display('Фреймворк ICE:', hypothesis.sort_values(by='ice', ascending=False))\n",
    "display('Фреймворк RICE:', hypothesis.sort_values(by='rice', ascending=False))"
   ]
  },
  {
   "cell_type": "markdown",
   "metadata": {
    "id": "g-XmVfdRuQQR"
   },
   "source": [
    "По данным ICE гипотеза \"Запустить акцию, дающую скидку на товар в день рождения\" выигрывает: у нее высокое влияние, уверенность и относительно небольшая стоимость проверки. Следом идет \"Добавить два новых канала\" с наивысшим влиянием, высокой уверенностью и относительно дешевая в проверке; за ней - \"Добавить форму подписки на основные страницы, чтобы собрать базу данных\" с высоким влиянием, уверенностью и низкими затратами. При применении RICE гипотеза \"Добавить форму подписки...\" вырывается вперед за счет максимального охвата, следом за ней - \"Добавить блоки рекомендаций\" с высоким охватом и уверенностью и низкими затратами, последняя в тройке - \"Добавить 2 новых канала\". Как мы видим, гипотезы с индексами 0 и 7 входят в топ-3 по данным обеих метрик, именно из них следует выбирать наиболее интересную!"
   ]
  },
  {
   "cell_type": "markdown",
   "metadata": {
    "id": "RdUvOr1rfA2M"
   },
   "source": [
    "## <a id=\"ab\">Собственно А/В-тестирование</a>"
   ]
  },
  {
   "cell_type": "markdown",
   "metadata": {
    "id": "SGT-GpIjfjK_"
   },
   "source": [
    "Ура! Мы провели А/В-тест и получили кучу интересной информации. Настало время её анализировать. Для начала расчитаем основные кумулятивные метрики."
   ]
  },
  {
   "cell_type": "markdown",
   "metadata": {
    "id": "OGsKeZnSfwKA"
   },
   "source": [
    "### <a id=\"met\">Объединение данных и расчет кумулятивных метрик</a>"
   ]
  },
  {
   "cell_type": "markdown",
   "metadata": {
    "id": "SzbN0yeqNE7q"
   },
   "source": [
    "Саккумулируем наши данные в датафрейм с понятными столбцами и начнем анализ. Первый в очереди - график среднего чека."
   ]
  },
  {
   "cell_type": "code",
   "execution_count": 8,
   "metadata": {
    "colab": {
     "base_uri": "https://localhost:8080/",
     "height": 350
    },
    "id": "71F8auXef3Yp",
    "outputId": "c07649f1-2c30-41f1-ad55-960a2bff77cb"
   },
   "outputs": [
    {
     "data": {
      "image/png": "[encoded data removed]",
      "text/plain": [
       "<Figure size 720x360 with 1 Axes>"
      ]
     },
     "metadata": {
      "needs_background": "light"
     },
     "output_type": "display_data"
    }
   ],
   "source": [
    "dates_groups = orders[['date','group']].drop_duplicates()\n",
    "orders_aggregated = dates_groups.apply(lambda x: orders[np.logical_and(orders['date'] <= x['date'], \\\n",
    "    orders['group'] == x['group'])].agg({'date' : 'max', 'group' : 'max', 'transactionid' : pd.Series.nunique, \\\n",
    "    'visitorid' : pd.Series.nunique, 'revenue' : 'sum'}), axis=1).sort_values(by=['date','group'])\n",
    "visitors_aggregated = dates_groups.apply(lambda x: visitors[np.logical_and(visitors['date'] <= x['date'], \\\n",
    "    visitors['group'] == x['group'])].agg({'date' : 'max', 'group' : 'max', 'visitors' : 'sum'}), axis=1)\\\n",
    "    .sort_values(by=['date','group'])\n",
    "cumulative_data = orders_aggregated.merge(visitors_aggregated, left_on=['date', 'group'], right_on=['date', 'group'])\n",
    "cumulative_data.columns = ['date', 'group', 'orders', 'buyers', 'revenue', 'visitors']\n",
    "cumulative_revenue_A = cumulative_data[cumulative_data['group']=='A'][['date','revenue', 'orders']]\n",
    "cumulative_revenue_B = cumulative_data[cumulative_data['group']=='B'][['date','revenue', 'orders']]\n",
    "plt.figure(figsize=(10, 5))\n",
    "plt.title('Кумулятивная выручка по группам')\n",
    "plt.plot(cumulative_revenue_A['date'], cumulative_revenue_A['revenue'], 'bo-', label='A')\n",
    "plt.plot(cumulative_revenue_B['date'], cumulative_revenue_B['revenue'], 'ro-', label='B')\n",
    "plt.xlabel('дата')\n",
    "plt.ylabel('кумулятивная выручка, млн')\n",
    "plt.legend()\n",
    "plt.show()"
   ]
  },
  {
   "cell_type": "markdown",
   "metadata": {
    "id": "bxya4qQuGS7Q"
   },
   "source": [
    "Кумулятивная выручка растет в обеих группах практически параллельно, но 20 августа выручка группы В выстреливает вверх - возможно, за счет заказов-выбросов."
   ]
  },
  {
   "cell_type": "code",
   "execution_count": 9,
   "metadata": {
    "colab": {
     "base_uri": "https://localhost:8080/",
     "height": 350
    },
    "id": "OyvZcUe3LWIq",
    "outputId": "66909202-09b9-4e24-ea7e-1a5898bbefcf"
   },
   "outputs": [
    {
     "data": {
      "image/png": "[encoded data removed]",
      "text/plain": [
       "<Figure size 720x360 with 1 Axes>"
      ]
     },
     "metadata": {
      "needs_background": "light"
     },
     "output_type": "display_data"
    }
   ],
   "source": [
    "plt.figure(figsize=(10, 5))\n",
    "plt.plot(cumulative_revenue_A['date'], cumulative_revenue_A['revenue']/cumulative_revenue_A['orders'], 'b', label='A')\n",
    "plt.plot(cumulative_revenue_B['date'], cumulative_revenue_B['revenue']/cumulative_revenue_B['orders'], 'r',label='B')\n",
    "plt.title('Кумулятивный средний чек по группам')\n",
    "plt.xlabel('дата')\n",
    "plt.ylabel('кумулятивный средний чек, тыс.')\n",
    "plt.legend()\n",
    "plt.show()"
   ]
  },
  {
   "cell_type": "markdown",
   "metadata": {
    "id": "Pdvt4gD7MTBX"
   },
   "source": [
    "Кумулятивный средний чек в первой половине периода значительно колебался, затем в группе В кто-то заказал несколько ящиков черной икры, а потом средние чеки обеих групп несколько стабилизировались (хотя у В он склонен снижаться)"
   ]
  },
  {
   "cell_type": "code",
   "execution_count": 10,
   "metadata": {
    "colab": {
     "base_uri": "https://localhost:8080/",
     "height": 350
    },
    "id": "UggPdCdqNbPA",
    "outputId": "58eecae0-6fff-4c94-b14d-c233f7821e9b"
   },
   "outputs": [
    {
     "data": {
      "image/png": "[encoded data removed]",
      "text/plain": [
       "<Figure size 720x360 with 1 Axes>"
      ]
     },
     "metadata": {
      "needs_background": "light"
     },
     "output_type": "display_data"
    }
   ],
   "source": [
    "merged_cumulative_revenue = cumulative_revenue_A.merge(cumulative_revenue_B, \\\n",
    "    left_on='date', right_on='date', how='left', suffixes=['A', 'B'])\n",
    "plt.figure(figsize=(10, 5))\n",
    "plt.plot(merged_cumulative_revenue['date'], \\\n",
    "    (merged_cumulative_revenue['revenueB']/merged_cumulative_revenue['ordersB'])\\\n",
    "    /(merged_cumulative_revenue['revenueA']/merged_cumulative_revenue['ordersA'])-1)\n",
    "plt.axhline(y=0, color='red', linestyle='--') \n",
    "plt.title('Относительное изменение кумулятивного среднего чека группы В к группе А')\n",
    "plt.xlabel('дата')\n",
    "plt.ylabel('отношение')\n",
    "plt.show()"
   ]
  },
  {
   "cell_type": "markdown",
   "metadata": {
    "id": "TBNXHN2AOrX7"
   },
   "source": [
    "На графике нестабильность и вероятные выбросы, а также тенденция к снижению выручки группы В."
   ]
  },
  {
   "cell_type": "code",
   "execution_count": 11,
   "metadata": {
    "colab": {
     "base_uri": "https://localhost:8080/",
     "height": 350
    },
    "id": "3_m2g1XpO0hM",
    "outputId": "4031bbc2-56e1-4e38-c25c-912beed9fb72"
   },
   "outputs": [
    {
     "data": {
      "image/png": "[encoded data removed]",
      "text/plain": [
       "<Figure size 720x360 with 1 Axes>"
      ]
     },
     "metadata": {
      "needs_background": "light"
     },
     "output_type": "display_data"
    }
   ],
   "source": [
    "cumulative_data['conversion'] = cumulative_data['orders']/cumulative_data['visitors']\n",
    "cumulative_data_A = cumulative_data[cumulative_data['group']=='A']\n",
    "cumulative_data_B = cumulative_data[cumulative_data['group']=='B']\n",
    "plt.figure(figsize=(10, 5))\n",
    "plt.plot(cumulative_data_A['date'], cumulative_data_A['conversion'], 'b', label='A')\n",
    "plt.plot(cumulative_data_B['date'], cumulative_data_B['conversion'], 'r', label='B')\n",
    "plt.title('Кумулятивная конверсия по группам')\n",
    "plt.xlabel('дата')\n",
    "plt.ylabel('конверсия')\n",
    "plt.legend()\n",
    "plt.show()"
   ]
  },
  {
   "cell_type": "markdown",
   "metadata": {
    "id": "OFtM86r3fcY-"
   },
   "source": [
    "Кумулятивная конверсия в группе В выше! Кажется, пользователи действительно чаще покупают."
   ]
  },
  {
   "cell_type": "code",
   "execution_count": 12,
   "metadata": {
    "colab": {
     "base_uri": "https://localhost:8080/",
     "height": 350
    },
    "id": "mo_FqeQRgh7g",
    "outputId": "01d581a4-c7f1-4804-a2e7-fa40f3221ffe"
   },
   "outputs": [
    {
     "data": {
      "image/png": "[encoded data removed]",
      "text/plain": [
       "<Figure size 720x360 with 1 Axes>"
      ]
     },
     "metadata": {
      "needs_background": "light"
     },
     "output_type": "display_data"
    }
   ],
   "source": [
    "merged_cumulative_conversions = cumulative_data_A[['date','conversion']]\\\n",
    "    .merge(cumulative_data_B[['date','conversion']], left_on='date', right_on='date', how='left', suffixes=['_A', '_B'])\n",
    "plt.figure(figsize=(10,5))\n",
    "plt.plot(merged_cumulative_conversions['date'], merged_cumulative_conversions['conversion_B']\\\n",
    "    /merged_cumulative_conversions['conversion_A']-1, 'bo-')\n",
    "plt.title('Относительный прирост конверсии группы B к группе A')\n",
    "plt.xlabel('дата')\n",
    "plt.ylabel('отношение конверсий')\n",
    "plt.axhline(y=0, color='black', linestyle='--')\n",
    "plt.show()"
   ]
  },
  {
   "cell_type": "markdown",
   "metadata": {
    "id": "doOnIqiIhoDk"
   },
   "source": [
    "График подтверждает предыдущий вывод. Можно сказать, что отношения конверсий стабилизировались. "
   ]
  },
  {
   "cell_type": "markdown",
   "metadata": {
    "id": "BtZ7hfWWi3mm"
   },
   "source": [
    "### <a id=\"abn\">Поиск аномалий</a>"
   ]
  },
  {
   "cell_type": "code",
   "execution_count": 13,
   "metadata": {
    "colab": {
     "base_uri": "https://localhost:8080/",
     "height": 350
    },
    "id": "JH7RG-PGn1Na",
    "outputId": "10082f67-8473-4dc9-f65e-54a3639c7290"
   },
   "outputs": [
    {
     "data": {
      "image/png": "[encoded data removed]",
      "text/plain": [
       "<Figure size 864x360 with 2 Axes>"
      ]
     },
     "metadata": {
      "needs_background": "light"
     },
     "output_type": "display_data"
    }
   ],
   "source": [
    "orders_by_users = orders.groupby('visitorid', as_index=False).agg({'transactionid':'nunique'})\n",
    "plt.figure(figsize=(12,5))\n",
    "plt.subplot(1,2,1)\n",
    "plt.xlabel('количество заказов')\n",
    "plt.ylabel('частота')\n",
    "plt.hist(orders_by_users['transactionid'], bins=50)\n",
    "plt.title('гистограмма количества заказов')\n",
    "plt.subplot(1,2,2)\n",
    "plt.xlabel('номера пользователей')\n",
    "plt.ylabel('количество заказов')\n",
    "plt.scatter(pd.Series(range(0,len(orders_by_users['transactionid']))), orders_by_users['transactionid'])\n",
    "plt.title('количество заказов, совершенное одним пользователем')\n",
    "plt.show()"
   ]
  },
  {
   "cell_type": "markdown",
   "metadata": {
    "id": "7u-Tc4unozkC"
   },
   "source": [
    "Подавляющее большинство пользователей совершают 1-2 заказа, а тех, кто сделал больше шести, можно пересчитать по пальцам опытного слесаря. Отыщем границу, по которой будем отсекать выбросы:"
   ]
  },
  {
   "cell_type": "code",
   "execution_count": 14,
   "metadata": {
    "colab": {
     "base_uri": "https://localhost:8080/"
    },
    "id": "tPefcOmjpHsj",
    "outputId": "8c8ec5cf-7c19-4a67-ce79-b956299e5d01"
   },
   "outputs": [
    {
     "name": "stdout",
     "output_type": "stream",
     "text": [
      "[1. 2. 4.]\n"
     ]
    }
   ],
   "source": [
    "print(np.percentile(orders_by_users['transactionid'], [90, 95, 99]))"
   ]
  },
  {
   "cell_type": "markdown",
   "metadata": {
    "id": "eB2Bno__pUCB"
   },
   "source": [
    "Больше 4-х заказов практически никто не делает. Печально, конечно, что верные клиенты - это аномалии... Посмотрим теперь на выручку."
   ]
  },
  {
   "cell_type": "code",
   "execution_count": 15,
   "metadata": {
    "colab": {
     "base_uri": "https://localhost:8080/",
     "height": 350
    },
    "id": "n7eeOMrRitW7",
    "outputId": "2d60a69c-5baa-4f18-cd1d-81a6c30937d8"
   },
   "outputs": [
    {
     "data": {
      "image/png": "[encoded data removed]",
      "text/plain": [
       "<Figure size 864x360 with 2 Axes>"
      ]
     },
     "metadata": {
      "needs_background": "light"
     },
     "output_type": "display_data"
    }
   ],
   "source": [
    "plt.figure(figsize=(12,5))\n",
    "plt.subplot(1,2,1)\n",
    "plt.hist(orders['revenue'], bins=50)\n",
    "plt.title('гистограмма выручки')\n",
    "plt.xlabel('стоимость заказа, млн')\n",
    "plt.ylabel('частота')\n",
    "plt.subplot(1,2,2)\n",
    "plt.title('выручка пользователей')\n",
    "plt.xlabel('номера пользователей')\n",
    "plt.ylabel('стоимость заказа, млн')\n",
    "plt.scatter(pd.Series(range(0,len(orders['revenue']))), orders['revenue'])\n",
    "plt.show()"
   ]
  },
  {
   "cell_type": "markdown",
   "metadata": {
    "id": "_HOxz0DCm6TR"
   },
   "source": [
    "Видно, что выбросы есть, но их очень мало - буквально два. Убедимся в этом, вызвав функцию percentile:"
   ]
  },
  {
   "cell_type": "code",
   "execution_count": 16,
   "metadata": {
    "colab": {
     "base_uri": "https://localhost:8080/"
    },
    "id": "S-Nchke2l2Pa",
    "outputId": "bb008019-5256-4c7e-e05c-0d741701b66d"
   },
   "outputs": [
    {
     "name": "stdout",
     "output_type": "stream",
     "text": [
      "[18168.  28000.  58233.2]\n"
     ]
    }
   ],
   "source": [
    "print(np.percentile(orders['revenue'], [90, 95, 99]))"
   ]
  },
  {
   "cell_type": "markdown",
   "metadata": {
    "id": "aOp2WY2HnhdZ"
   },
   "source": [
    "99 процентов заказов находятся под чертой в 59 тысяч, при этом максимальный заказ составляет более 1,2 млн. Без него аналитику будет легче."
   ]
  },
  {
   "cell_type": "markdown",
   "metadata": {
    "id": "h-3kidWqzuTG"
   },
   "source": [
    "### <a id=\"test\">Собственно А/В-тестирование для изначальных и очищенных данных</a>"
   ]
  },
  {
   "cell_type": "markdown",
   "metadata": {
    "id": "Ww1sy_FfLBA7"
   },
   "source": [
    "Создадим датафрейм с привычным названием, в который положим все имеющиеся данные: и кумулятивные, и нет:"
   ]
  },
  {
   "cell_type": "code",
   "execution_count": 17,
   "metadata": {
    "colab": {
     "base_uri": "https://localhost:8080/"
    },
    "id": "q1uSWiqoIcfc",
    "outputId": "9830e4af-d7d5-4cab-dfb3-16555750a640"
   },
   "outputs": [
    {
     "data": {
      "text/html": [
       "<div>\n",
       "<style scoped>\n",
       "    .dataframe tbody tr th:only-of-type {\n",
       "        vertical-align: middle;\n",
       "    }\n",
       "\n",
       "    .dataframe tbody tr th {\n",
       "        vertical-align: top;\n",
       "    }\n",
       "\n",
       "    .dataframe thead th {\n",
       "        text-align: right;\n",
       "    }\n",
       "</style>\n",
       "<table border=\"1\" class=\"dataframe\">\n",
       "  <thead>\n",
       "    <tr style=\"text-align: right;\">\n",
       "      <th></th>\n",
       "      <th>date</th>\n",
       "      <th>orders_A_daily</th>\n",
       "      <th>revenue_A_daily</th>\n",
       "      <th>orders_B_daily</th>\n",
       "      <th>revenue_B_daily</th>\n",
       "      <th>orders_A_cummulative</th>\n",
       "      <th>revenue_A_cumulative</th>\n",
       "      <th>orders_B_cummulative</th>\n",
       "      <th>revenue_B_cumulative</th>\n",
       "      <th>visitors_A_daily</th>\n",
       "      <th>visitors_B_daily</th>\n",
       "      <th>visitors_A_cummulative</th>\n",
       "      <th>visitors_B_cummulative</th>\n",
       "    </tr>\n",
       "  </thead>\n",
       "  <tbody>\n",
       "    <tr>\n",
       "      <td>0</td>\n",
       "      <td>2019-08-01</td>\n",
       "      <td>24</td>\n",
       "      <td>148579</td>\n",
       "      <td>21</td>\n",
       "      <td>101217</td>\n",
       "      <td>24</td>\n",
       "      <td>148579</td>\n",
       "      <td>21</td>\n",
       "      <td>101217</td>\n",
       "      <td>719</td>\n",
       "      <td>713</td>\n",
       "      <td>719</td>\n",
       "      <td>713</td>\n",
       "    </tr>\n",
       "    <tr>\n",
       "      <td>1</td>\n",
       "      <td>2019-08-02</td>\n",
       "      <td>20</td>\n",
       "      <td>93822</td>\n",
       "      <td>24</td>\n",
       "      <td>165531</td>\n",
       "      <td>44</td>\n",
       "      <td>242401</td>\n",
       "      <td>45</td>\n",
       "      <td>266748</td>\n",
       "      <td>619</td>\n",
       "      <td>581</td>\n",
       "      <td>1338</td>\n",
       "      <td>1294</td>\n",
       "    </tr>\n",
       "    <tr>\n",
       "      <td>2</td>\n",
       "      <td>2019-08-03</td>\n",
       "      <td>24</td>\n",
       "      <td>112473</td>\n",
       "      <td>16</td>\n",
       "      <td>114248</td>\n",
       "      <td>68</td>\n",
       "      <td>354874</td>\n",
       "      <td>61</td>\n",
       "      <td>380996</td>\n",
       "      <td>507</td>\n",
       "      <td>509</td>\n",
       "      <td>1845</td>\n",
       "      <td>1803</td>\n",
       "    </tr>\n",
       "    <tr>\n",
       "      <td>3</td>\n",
       "      <td>2019-08-04</td>\n",
       "      <td>16</td>\n",
       "      <td>70825</td>\n",
       "      <td>17</td>\n",
       "      <td>108571</td>\n",
       "      <td>84</td>\n",
       "      <td>425699</td>\n",
       "      <td>78</td>\n",
       "      <td>489567</td>\n",
       "      <td>717</td>\n",
       "      <td>770</td>\n",
       "      <td>2562</td>\n",
       "      <td>2573</td>\n",
       "    </tr>\n",
       "    <tr>\n",
       "      <td>4</td>\n",
       "      <td>2019-08-05</td>\n",
       "      <td>25</td>\n",
       "      <td>124218</td>\n",
       "      <td>23</td>\n",
       "      <td>92428</td>\n",
       "      <td>109</td>\n",
       "      <td>549917</td>\n",
       "      <td>101</td>\n",
       "      <td>581995</td>\n",
       "      <td>756</td>\n",
       "      <td>707</td>\n",
       "      <td>3318</td>\n",
       "      <td>3280</td>\n",
       "    </tr>\n",
       "  </tbody>\n",
       "</table>\n",
       "</div>"
      ],
      "text/plain": [
       "        date  orders_A_daily  revenue_A_daily  orders_B_daily  \\\n",
       "0 2019-08-01              24           148579              21   \n",
       "1 2019-08-02              20            93822              24   \n",
       "2 2019-08-03              24           112473              16   \n",
       "3 2019-08-04              16            70825              17   \n",
       "4 2019-08-05              25           124218              23   \n",
       "\n",
       "   revenue_B_daily  orders_A_cummulative  revenue_A_cumulative  \\\n",
       "0           101217                    24                148579   \n",
       "1           165531                    44                242401   \n",
       "2           114248                    68                354874   \n",
       "3           108571                    84                425699   \n",
       "4            92428                   109                549917   \n",
       "\n",
       "   orders_B_cummulative  revenue_B_cumulative  visitors_A_daily  \\\n",
       "0                    21                101217               719   \n",
       "1                    45                266748               619   \n",
       "2                    61                380996               507   \n",
       "3                    78                489567               717   \n",
       "4                   101                581995               756   \n",
       "\n",
       "   visitors_B_daily  visitors_A_cummulative  visitors_B_cummulative  \n",
       "0               713                     719                     713  \n",
       "1               581                    1338                    1294  \n",
       "2               509                    1845                    1803  \n",
       "3               770                    2562                    2573  \n",
       "4               707                    3318                    3280  "
      ]
     },
     "metadata": {},
     "output_type": "display_data"
    }
   ],
   "source": [
    "orders_A_daily = (\n",
    "    orders[orders['group'] == 'A']\n",
    "    .groupby('date', as_index=False)\n",
    "    .agg({'transactionid': 'nunique', 'revenue': 'sum'})\n",
    "    .rename(columns={'transactionid':'orders_A_daily', 'revenue': 'revenue_A_daily'})\n",
    ")\n",
    "orders_B_daily = (\n",
    "    orders[orders['group'] == 'B']\n",
    "    .groupby('date', as_index=False)\n",
    "    .agg({'transactionid': 'nunique', 'revenue': 'sum'})\n",
    "    .rename(columns={'transactionid':'orders_B_daily', 'revenue': 'revenue_B_daily'})\n",
    ")\n",
    "visitors_A_daily = visitors[visitors['group'] == 'A'][['date', 'visitors']].rename(columns={'visitors':'visitors_A_daily'})\n",
    "visitors_B_daily = visitors[visitors['group'] == 'B'][['date', 'visitors']].rename(columns={'visitors':'visitors_B_daily'})\n",
    "visitors_A_cummulative = (\n",
    "    cumulative_data[cumulative_data['group'] == 'A'][['date', 'visitors']]\n",
    "    .rename(columns = {'visitors':'visitors_A_cummulative'})\n",
    ")\n",
    "visitors_B_cummulative = (\n",
    "    cumulative_data[cumulative_data['group'] == 'B'][['date', 'visitors']]\n",
    "    .rename(columns = {'visitors':'visitors_B_cummulative'})\n",
    ")\n",
    "orders_A_cumulative = (\n",
    "    cumulative_data[cumulative_data['group'] == 'A'][['date', 'orders', 'revenue']]\n",
    "    .rename(columns = {'orders':'orders_A_cummulative', 'revenue':'revenue_A_cumulative'})\n",
    ")\n",
    "orders_B_cumulative = (\n",
    "    cumulative_data[cumulative_data['group'] == 'B'][['date', 'orders', 'revenue']]\n",
    "    .rename(columns = {'orders':'orders_B_cummulative', 'revenue':'revenue_B_cumulative'})\n",
    ")\n",
    "data = (\n",
    "    orders_A_daily.merge(orders_B_daily, on='date', how='left')\n",
    "    .merge(orders_A_cumulative, on='date', how='left')\n",
    "    .merge(orders_B_cumulative, on='date', how='left')\n",
    "    .merge(visitors_A_daily, on='date', how='left')\n",
    "    .merge(visitors_B_daily, on='date', how='left')\n",
    "    .merge(visitors_A_cummulative, on='date', how='left')\n",
    "    .merge(visitors_B_cummulative, on='date', how='left')\n",
    ")\n",
    "pd.set_option('display.max_columns', 300)\n",
    "display(data.head(5))"
   ]
  },
  {
   "cell_type": "markdown",
   "metadata": {
    "id": "GUX0fNYgL0BY"
   },
   "source": [
    "Чтобы проверить гипотезу, ее сначала нужно сформулировать. Мы видели по графикам, что группа В лучше \"конвертируется\". Нулевая гипотеза: различия в конверсии между группами случайны, альтернативная - различия в конверсии между группами статистически значимы. Мы видели, что данные распределены крайне ненормально, тут и к Шапиро-Уилку не ходи. Непараметрический тест Манна-Уитни вполне подойдет, за P-value возьмем 0.05.\n",
    "\n",
    "Теперь пойдем на хитрость. Для того, чтобы использовать тест Манна-Уитни, нам нужно создать серии, в которых мы соберем уникальных пользователей каждой группы теста и количество их заказов. Важно, что ничего не заказавшие тоже должны там оказаться. Для этого объединим результаты работы функции nunique с количеством оставшихся без заказов пользователей. "
   ]
  },
  {
   "cell_type": "code",
   "execution_count": 18,
   "metadata": {
    "colab": {
     "base_uri": "https://localhost:8080/"
    },
    "id": "bC7X0sJGH08K",
    "outputId": "0af2d830-a038-446f-93a8-bf2bfaefac6f"
   },
   "outputs": [
    {
     "name": "stdout",
     "output_type": "stream",
     "text": [
      "Для теста Манна-Уитни p-value: 0.008\n",
      "Относительная разница конверсий между группами: 0.138\n"
     ]
    }
   ],
   "source": [
    "orders_by_users_A = (\n",
    "    orders[orders['group'] == 'A']\n",
    "    .groupby('visitorid', as_index=False)\n",
    "    .agg({'transactionid': pd.Series.nunique})\n",
    "    .rename(columns={'transactionid':'orders'})\n",
    ")\n",
    "orders_by_users_B = (\n",
    "    orders[orders['group'] == 'B']\n",
    "    .groupby('visitorid', as_index=False)\n",
    "    .agg({'transactionid': pd.Series.nunique})\n",
    "    .rename(columns={'transactionid':'orders'})\n",
    ")\n",
    "sample_A = pd.concat(\n",
    "    [orders_by_users_A['orders'],\n",
    "    pd.Series(0, index=np.arange(data['visitors_A_daily'].sum() - len(orders_by_users_A['orders'])), name='orders')], axis=0\n",
    ")\n",
    "sample_B = pd.concat(\n",
    "    [orders_by_users_B['orders'],\n",
    "    pd.Series(0, index=np.arange(data['visitors_B_daily'].sum() - len(orders_by_users_B['orders'])), name='orders')], axis=0\n",
    ")\n",
    "print(\"Для теста Манна-Уитни p-value: {0:.3f}\".format(st.mannwhitneyu(sample_A, sample_B)[1]))\n",
    "print(\"Относительная разница конверсий между группами: {0:.3f}\".format(sample_B.mean() / sample_A.mean() - 1))"
   ]
  },
  {
   "cell_type": "markdown",
   "metadata": {
    "id": "ylLEsGdJRLHA"
   },
   "source": [
    "Ура! Непараметрический, устойчивый к выбросам тест Манна-Уитни показал значимое различие конверсий, причем в группе В она больше (мы видели это на графиках). А как насчет среднего чека? Пусть нашей нулевой гипотезой будет то, что выборки не отличаются друг от друга по выручке, а альтернативной - что статистически значимые различия есть. P-value также возьмем 0.05:"
   ]
  },
  {
   "cell_type": "code",
   "execution_count": 19,
   "metadata": {
    "colab": {
     "base_uri": "https://localhost:8080/"
    },
    "id": "72be_a-rTmzV",
    "outputId": "2895d5d1-8c7e-4158-cd23-170f5788809e"
   },
   "outputs": [
    {
     "name": "stdout",
     "output_type": "stream",
     "text": [
      "Для теста Манна-Уитни p-value: 0.365\n",
      "Относительная разница средних чеков: 0.259\n"
     ]
    }
   ],
   "source": [
    "print('Для теста Манна-Уитни p-value: {0:.3f}'.format(st.mannwhitneyu(orders[orders['group']=='A']['revenue'], \\\n",
    "                                orders[orders['group']=='B']['revenue'])[1]))\n",
    "print('Относительная разница средних чеков: {0:.3f}'.format(orders[orders['group']=='B']['revenue'].mean()\\\n",
    "                                /orders[orders['group']=='A']['revenue'].mean()-1))"
   ]
  },
  {
   "cell_type": "markdown",
   "metadata": {
    "id": "105sfYZwT48Z"
   },
   "source": [
    "Хотя разница явно в пользу В, U-критерий не дает нам сделать вывода о значимости этих различий. Посмотрим, как повлияет на результаты теста очистка от выбросов."
   ]
  },
  {
   "cell_type": "code",
   "execution_count": 20,
   "metadata": {
    "colab": {
     "base_uri": "https://localhost:8080/"
    },
    "id": "YpbwXsxuUko6",
    "outputId": "69f9f4a6-eae8-4c9d-a8b5-3741e7f01fc5"
   },
   "outputs": [
    {
     "name": "stdout",
     "output_type": "stream",
     "text": [
      "количество аномальных пользователей: 15\n"
     ]
    }
   ],
   "source": [
    "many_orders = pd.concat([orders_by_users_A.query('orders > 4')['visitorid'], \\\n",
    "                         orders_by_users_B.query('orders > 4')['visitorid']],axis=0)\n",
    "expensive_orders = orders[orders['revenue'] > np.percentile(orders['revenue'], 99)]['visitorid']\n",
    "abnormal_users = pd.concat([many_orders, expensive_orders], axis=0).drop_duplicates()\n",
    "print('количество аномальных пользователей:', len(abnormal_users))"
   ]
  },
  {
   "cell_type": "markdown",
   "metadata": {
    "id": "NFE1gkp-WYJH"
   },
   "source": [
    "15 аномальных клиентов можно (не без горечи) отделить от выборки. "
   ]
  },
  {
   "cell_type": "code",
   "execution_count": 21,
   "metadata": {
    "colab": {
     "base_uri": "https://localhost:8080/"
    },
    "id": "Y1zGz27hWuqK",
    "outputId": "ecda4f06-44ca-4847-f857-19947ff08471"
   },
   "outputs": [
    {
     "name": "stdout",
     "output_type": "stream",
     "text": [
      "Для теста Манна-Уитни p-value: 0.007\n",
      "Относительная разница конверсий между группами: 0.153\n"
     ]
    }
   ],
   "source": [
    "sample_A_filtered = pd.concat(\n",
    "    [orders_by_users_A[np.logical_not(orders_by_users_A['visitorid'].isin(abnormal_users))]['orders'],\n",
    "     pd.Series(0, index=np.arange(data['visitors_A_daily'].sum() - len(orders_by_users_A['orders'])), name='orders')],axis=0\n",
    ")\n",
    "sample_B_filtered = pd.concat(\n",
    "    [orders_by_users_B[np.logical_not(orders_by_users_B['visitorid'].isin(abnormal_users))]['orders'],\n",
    "     pd.Series(0, index=np.arange(data['visitors_B_daily'].sum() - len(orders_by_users_B['orders'])), name='orders')],axis=0\n",
    ")\n",
    "print(\"Для теста Манна-Уитни p-value: {0:.3f}\".format(st.mannwhitneyu(sample_A_filtered, sample_B_filtered)[1]))\n",
    "print(\"Относительная разница конверсий между группами: {0:.3f}\".format(sample_B_filtered.mean() / sample_A_filtered.mean() - 1))"
   ]
  },
  {
   "cell_type": "markdown",
   "metadata": {
    "id": "DAV-6U9tYMnS"
   },
   "source": [
    "Для конверсий практически ничего не изменилось - лишь отношение стало слегка побольше. В группе А было больше людей, покупавших много раз."
   ]
  },
  {
   "cell_type": "code",
   "execution_count": 22,
   "metadata": {
    "colab": {
     "base_uri": "https://localhost:8080/"
    },
    "id": "103sgrdiYoJB",
    "outputId": "925e339b-4131-45f3-9dff-edac8a7f7b6c"
   },
   "outputs": [
    {
     "name": "stdout",
     "output_type": "stream",
     "text": [
      "Для теста Манна-Уитни p-value: 0.425\n",
      "Относительная разница средних чеков: 0.006\n"
     ]
    }
   ],
   "source": [
    "clean_revenue_A = orders[np.logical_and(orders['group']=='A', \\\n",
    "                                        np.logical_not(orders['visitorid'].isin(abnormal_users)))]['revenue']\n",
    "clean_revenue_B = orders[np.logical_and(orders['group']=='B', \\\n",
    "                                        np.logical_not(orders['visitorid'].isin(abnormal_users)))]['revenue']\n",
    "print('Для теста Манна-Уитни p-value: {0:.3f}'.format(st.mannwhitneyu(clean_revenue_A, clean_revenue_B)[1]))\n",
    "print('Относительная разница средних чеков: {0:.3f}'.format(clean_revenue_A.mean()/clean_revenue_B.mean()-1))"
   ]
  },
  {
   "cell_type": "markdown",
   "metadata": {
    "id": "gsK6icR3esKX"
   },
   "source": [
    "Отношение средних чеков значительно изменилось - превосходство группы В было обусловлено выбросами. U-критерий предупреждал нас об этом и ранее."
   ]
  },
  {
   "cell_type": "markdown",
   "metadata": {
    "id": "QfyPgK8tfb2S"
   },
   "source": [
    "## <a id=\"concl\">Выводы</a>"
   ]
  },
  {
   "cell_type": "markdown",
   "metadata": {
    "id": "O5ho65TLfeZm"
   },
   "source": [
    "Наиболее интересными согласно фреймворкам ICE и RICE являются гипотезы \"Добавить форму подписки на все основные страницы, чтобы собрать базу клиентов для email-рассылок\" и \"Добавить два новых канала привлечения трафика, что позволит привлекать на 30% больше пользователей\".\n",
    "\n",
    "Конверсия в группе В значимо выше, чем в группе А. Средние чеки групп, к сожалению, не обнаруживают статистически значимых различий, а значительный прирост кумулятивной выручки обусловлен аномальными заказами. Конечно, перед тестом надо было оценить объемы выборки и время, которое нам следует на него потратить, например, с помощью калькулятора Эвана Миллера, тогда нам не пришлось бы принимать решения об остановке или продолжении теста. Я считаю, что на основании имеющихся данных стоит остановить тест и зафиксировать результаты, признав победу в конверсии группы В: графики конверсий и выручек стабилизировались и не обнаруживают значимых турбулентностей во второй половине теста."
   ]
  }
 ],
 "metadata": {
  "colab": {
   "name": "A/B.ipynb",
   "provenance": [],
   "toc_visible": true
  },
  "kernelspec": {
   "display_name": "Python 3",
   "language": "python",
   "name": "python3"
  },
  "language_info": {
   "codemirror_mode": {
    "name": "ipython",
    "version": 3
   },
   "file_extension": ".py",
   "mimetype": "text/x-python",
   "name": "python",
   "nbconvert_exporter": "python",
   "pygments_lexer": "ipython3",
   "version": "3.7.8"
  },
  "toc": {
   "base_numbering": 1,
   "nav_menu": {},
   "number_sections": true,
   "sideBar": true,
   "skip_h1_title": true,
   "title_cell": "Table of Contents",
   "title_sidebar": "Contents",
   "toc_cell": false,
   "toc_position": {},
   "toc_section_display": true,
   "toc_window_display": false
  }
 },
 "nbformat": 4,
 "nbformat_minor": 1
}
